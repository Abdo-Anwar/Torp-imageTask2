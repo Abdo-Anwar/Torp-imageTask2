{
 "cells": [
  {
   "cell_type": "code",
   "execution_count": 23,
   "metadata": {},
   "outputs": [],
   "source": [
    "import cv2\n",
    "import matplotlib.pyplot as plt\n",
    "cap = cv2.VideoCapture('ImageSess2.mp4')\n",
    "\n",
    "if not cap.isOpened():\n",
    "    print(\"Error: Could not open video.\")\n",
    "    exit()\n",
    "\n",
    "\n",
    "while True:\n",
    "    ret, frame = cap.read()\n",
    "\n",
    "    if not ret:\n",
    "        break\n",
    "    \n",
    "    cv2.imshow('original', frame)\n",
    "    gray = cv2.cvtColor(frame, cv2.COLOR_BGR2GRAY)\n",
    "    blur = cv2.GaussianBlur(gray, (3, 3), 100)\n",
    "    cv2.imshow('Blurred', blur)\n",
    "\n",
    "\n",
    "    Sobel_X=cv2.Sobel(blur,-1,1,0) \n",
    "    Sobel_Y=cv2.Sobel(blur,-1,0,1)\n",
    "    Sobel_or=cv2.bitwise_or(Sobel_X,Sobel_Y)\n",
    "    cv2.imshow('Sobel', Sobel_or)\n",
    "\n",
    "\n",
    "    canny=cv2.Canny(blur,22,80)\n",
    "    cv2.imshow('Canny', canny)\n",
    "\n",
    "\n",
    "    key = cv2.waitKey(30) & 0xFF  \n",
    "    if key == ord('q'): \n",
    "        break\n",
    "\n",
    "cap.release()\n",
    "cv2.destroyAllWindows()"
   ]
  }
 ],
 "metadata": {
  "kernelspec": {
   "display_name": "Python 3",
   "language": "python",
   "name": "python3"
  },
  "language_info": {
   "codemirror_mode": {
    "name": "ipython",
    "version": 3
   },
   "file_extension": ".py",
   "mimetype": "text/x-python",
   "name": "python",
   "nbconvert_exporter": "python",
   "pygments_lexer": "ipython3",
   "version": "3.11.9"
  }
 },
 "nbformat": 4,
 "nbformat_minor": 2
}
